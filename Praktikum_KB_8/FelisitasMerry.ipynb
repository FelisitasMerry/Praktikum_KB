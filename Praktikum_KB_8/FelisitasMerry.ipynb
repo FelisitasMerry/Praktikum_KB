{
  "nbformat": 4,
  "nbformat_minor": 0,
  "metadata": {
    "colab": {
      "provenance": [],
      "gpuType": "T4",
      "toc_visible": true
    },
    "kernelspec": {
      "name": "python3",
      "display_name": "Python 3"
    },
    "language_info": {
      "name": "python"
    },
    "accelerator": "GPU"
  },
  "cells": [
    {
      "cell_type": "markdown",
      "source": [
        "# Import Library dan Load Dataset\n",
        "Pertama-tama kita perlu mengimport library yang dibutuhkan. dataset yang akan digunakan juga kita siapkan"
      ],
      "metadata": {
        "id": "e13w3hfy8guq"
      }
    },
    {
      "cell_type": "code",
      "execution_count": 412,
      "metadata": {
        "colab": {
          "base_uri": "https://localhost:8080/",
          "height": 293
        },
        "id": "TQ73X8tZ8deM",
        "outputId": "8d5429f0-7363-4ef0-a5a1-073c1bba4633"
      },
      "outputs": [
        {
          "output_type": "execute_result",
          "data": {
            "text/plain": [
              "                          job_title  \\\n",
              "0    Business Development Associate   \n",
              "1  IELTS/PTE/Spoken English Trainer   \n",
              "2                  Fashion Designer   \n",
              "3         Corporate Sales Executive   \n",
              "4           Junior Python Developer   \n",
              "\n",
              "                                company_name   location          start_date  \\\n",
              "0                             Break The Code     Mumbai  Starts Immediately   \n",
              "1               DePioneer Education Overseas      Delhi  Starts Immediately   \n",
              "2                           Valkyre Clothing     Mumbai  Starts Immediately   \n",
              "3  Kompass India Information Private Limited     Mumbai  Starts Immediately   \n",
              "4     Extension Technologies Private Limited  Faridabad  Starts Immediately   \n",
              "\n",
              "                     ctc experience                                 posted  \n",
              "0  ₹ 2,00,000 - 3,00,000  0-1 years                             3 days ago  \n",
              "1  ₹ 3,00,000 - 3,50,000  0-2 years                             1 week ago  \n",
              "2  ₹ 3,00,000 - 3,50,000  0-2 years  3 days ago\\n\\n\\nBe an early applicant  \n",
              "3  ₹ 2,00,000 - 4,00,000  0-5 years                            3 weeks ago  \n",
              "4  ₹ 2,40,000 - 3,60,000  0-2 years                            2 weeks ago  "
            ],
            "text/html": [
              "\n",
              "  <div id=\"df-1de762f2-bae8-4a0b-8659-5cecf54cd73d\" class=\"colab-df-container\">\n",
              "    <div>\n",
              "<style scoped>\n",
              "    .dataframe tbody tr th:only-of-type {\n",
              "        vertical-align: middle;\n",
              "    }\n",
              "\n",
              "    .dataframe tbody tr th {\n",
              "        vertical-align: top;\n",
              "    }\n",
              "\n",
              "    .dataframe thead th {\n",
              "        text-align: right;\n",
              "    }\n",
              "</style>\n",
              "<table border=\"1\" class=\"dataframe\">\n",
              "  <thead>\n",
              "    <tr style=\"text-align: right;\">\n",
              "      <th></th>\n",
              "      <th>job_title</th>\n",
              "      <th>company_name</th>\n",
              "      <th>location</th>\n",
              "      <th>start_date</th>\n",
              "      <th>ctc</th>\n",
              "      <th>experience</th>\n",
              "      <th>posted</th>\n",
              "    </tr>\n",
              "  </thead>\n",
              "  <tbody>\n",
              "    <tr>\n",
              "      <th>0</th>\n",
              "      <td>Business Development Associate</td>\n",
              "      <td>Break The Code</td>\n",
              "      <td>Mumbai</td>\n",
              "      <td>Starts Immediately</td>\n",
              "      <td>₹ 2,00,000 - 3,00,000</td>\n",
              "      <td>0-1 years</td>\n",
              "      <td>3 days ago</td>\n",
              "    </tr>\n",
              "    <tr>\n",
              "      <th>1</th>\n",
              "      <td>IELTS/PTE/Spoken English Trainer</td>\n",
              "      <td>DePioneer Education Overseas</td>\n",
              "      <td>Delhi</td>\n",
              "      <td>Starts Immediately</td>\n",
              "      <td>₹ 3,00,000 - 3,50,000</td>\n",
              "      <td>0-2 years</td>\n",
              "      <td>1 week ago</td>\n",
              "    </tr>\n",
              "    <tr>\n",
              "      <th>2</th>\n",
              "      <td>Fashion Designer</td>\n",
              "      <td>Valkyre Clothing</td>\n",
              "      <td>Mumbai</td>\n",
              "      <td>Starts Immediately</td>\n",
              "      <td>₹ 3,00,000 - 3,50,000</td>\n",
              "      <td>0-2 years</td>\n",
              "      <td>3 days ago\\n\\n\\nBe an early applicant</td>\n",
              "    </tr>\n",
              "    <tr>\n",
              "      <th>3</th>\n",
              "      <td>Corporate Sales Executive</td>\n",
              "      <td>Kompass India Information Private Limited</td>\n",
              "      <td>Mumbai</td>\n",
              "      <td>Starts Immediately</td>\n",
              "      <td>₹ 2,00,000 - 4,00,000</td>\n",
              "      <td>0-5 years</td>\n",
              "      <td>3 weeks ago</td>\n",
              "    </tr>\n",
              "    <tr>\n",
              "      <th>4</th>\n",
              "      <td>Junior Python Developer</td>\n",
              "      <td>Extension Technologies Private Limited</td>\n",
              "      <td>Faridabad</td>\n",
              "      <td>Starts Immediately</td>\n",
              "      <td>₹ 2,40,000 - 3,60,000</td>\n",
              "      <td>0-2 years</td>\n",
              "      <td>2 weeks ago</td>\n",
              "    </tr>\n",
              "  </tbody>\n",
              "</table>\n",
              "</div>\n",
              "    <div class=\"colab-df-buttons\">\n",
              "\n",
              "  <div class=\"colab-df-container\">\n",
              "    <button class=\"colab-df-convert\" onclick=\"convertToInteractive('df-1de762f2-bae8-4a0b-8659-5cecf54cd73d')\"\n",
              "            title=\"Convert this dataframe to an interactive table.\"\n",
              "            style=\"display:none;\">\n",
              "\n",
              "  <svg xmlns=\"http://www.w3.org/2000/svg\" height=\"24px\" viewBox=\"0 -960 960 960\">\n",
              "    <path d=\"M120-120v-720h720v720H120Zm60-500h600v-160H180v160Zm220 220h160v-160H400v160Zm0 220h160v-160H400v160ZM180-400h160v-160H180v160Zm440 0h160v-160H620v160ZM180-180h160v-160H180v160Zm440 0h160v-160H620v160Z\"/>\n",
              "  </svg>\n",
              "    </button>\n",
              "\n",
              "  <style>\n",
              "    .colab-df-container {\n",
              "      display:flex;\n",
              "      gap: 12px;\n",
              "    }\n",
              "\n",
              "    .colab-df-convert {\n",
              "      background-color: #E8F0FE;\n",
              "      border: none;\n",
              "      border-radius: 50%;\n",
              "      cursor: pointer;\n",
              "      display: none;\n",
              "      fill: #1967D2;\n",
              "      height: 32px;\n",
              "      padding: 0 0 0 0;\n",
              "      width: 32px;\n",
              "    }\n",
              "\n",
              "    .colab-df-convert:hover {\n",
              "      background-color: #E2EBFA;\n",
              "      box-shadow: 0px 1px 2px rgba(60, 64, 67, 0.3), 0px 1px 3px 1px rgba(60, 64, 67, 0.15);\n",
              "      fill: #174EA6;\n",
              "    }\n",
              "\n",
              "    .colab-df-buttons div {\n",
              "      margin-bottom: 4px;\n",
              "    }\n",
              "\n",
              "    [theme=dark] .colab-df-convert {\n",
              "      background-color: #3B4455;\n",
              "      fill: #D2E3FC;\n",
              "    }\n",
              "\n",
              "    [theme=dark] .colab-df-convert:hover {\n",
              "      background-color: #434B5C;\n",
              "      box-shadow: 0px 1px 3px 1px rgba(0, 0, 0, 0.15);\n",
              "      filter: drop-shadow(0px 1px 2px rgba(0, 0, 0, 0.3));\n",
              "      fill: #FFFFFF;\n",
              "    }\n",
              "  </style>\n",
              "\n",
              "    <script>\n",
              "      const buttonEl =\n",
              "        document.querySelector('#df-1de762f2-bae8-4a0b-8659-5cecf54cd73d button.colab-df-convert');\n",
              "      buttonEl.style.display =\n",
              "        google.colab.kernel.accessAllowed ? 'block' : 'none';\n",
              "\n",
              "      async function convertToInteractive(key) {\n",
              "        const element = document.querySelector('#df-1de762f2-bae8-4a0b-8659-5cecf54cd73d');\n",
              "        const dataTable =\n",
              "          await google.colab.kernel.invokeFunction('convertToInteractive',\n",
              "                                                    [key], {});\n",
              "        if (!dataTable) return;\n",
              "\n",
              "        const docLinkHtml = 'Like what you see? Visit the ' +\n",
              "          '<a target=\"_blank\" href=https://colab.research.google.com/notebooks/data_table.ipynb>data table notebook</a>'\n",
              "          + ' to learn more about interactive tables.';\n",
              "        element.innerHTML = '';\n",
              "        dataTable['output_type'] = 'display_data';\n",
              "        await google.colab.output.renderOutput(dataTable, element);\n",
              "        const docLink = document.createElement('div');\n",
              "        docLink.innerHTML = docLinkHtml;\n",
              "        element.appendChild(docLink);\n",
              "      }\n",
              "    </script>\n",
              "  </div>\n",
              "\n",
              "\n",
              "<div id=\"df-68eb024b-d39d-4b7a-bc03-54ec44f52be4\">\n",
              "  <button class=\"colab-df-quickchart\" onclick=\"quickchart('df-68eb024b-d39d-4b7a-bc03-54ec44f52be4')\"\n",
              "            title=\"Suggest charts\"\n",
              "            style=\"display:none;\">\n",
              "\n",
              "<svg xmlns=\"http://www.w3.org/2000/svg\" height=\"24px\"viewBox=\"0 0 24 24\"\n",
              "     width=\"24px\">\n",
              "    <g>\n",
              "        <path d=\"M19 3H5c-1.1 0-2 .9-2 2v14c0 1.1.9 2 2 2h14c1.1 0 2-.9 2-2V5c0-1.1-.9-2-2-2zM9 17H7v-7h2v7zm4 0h-2V7h2v10zm4 0h-2v-4h2v4z\"/>\n",
              "    </g>\n",
              "</svg>\n",
              "  </button>\n",
              "\n",
              "<style>\n",
              "  .colab-df-quickchart {\n",
              "      --bg-color: #E8F0FE;\n",
              "      --fill-color: #1967D2;\n",
              "      --hover-bg-color: #E2EBFA;\n",
              "      --hover-fill-color: #174EA6;\n",
              "      --disabled-fill-color: #AAA;\n",
              "      --disabled-bg-color: #DDD;\n",
              "  }\n",
              "\n",
              "  [theme=dark] .colab-df-quickchart {\n",
              "      --bg-color: #3B4455;\n",
              "      --fill-color: #D2E3FC;\n",
              "      --hover-bg-color: #434B5C;\n",
              "      --hover-fill-color: #FFFFFF;\n",
              "      --disabled-bg-color: #3B4455;\n",
              "      --disabled-fill-color: #666;\n",
              "  }\n",
              "\n",
              "  .colab-df-quickchart {\n",
              "    background-color: var(--bg-color);\n",
              "    border: none;\n",
              "    border-radius: 50%;\n",
              "    cursor: pointer;\n",
              "    display: none;\n",
              "    fill: var(--fill-color);\n",
              "    height: 32px;\n",
              "    padding: 0;\n",
              "    width: 32px;\n",
              "  }\n",
              "\n",
              "  .colab-df-quickchart:hover {\n",
              "    background-color: var(--hover-bg-color);\n",
              "    box-shadow: 0 1px 2px rgba(60, 64, 67, 0.3), 0 1px 3px 1px rgba(60, 64, 67, 0.15);\n",
              "    fill: var(--button-hover-fill-color);\n",
              "  }\n",
              "\n",
              "  .colab-df-quickchart-complete:disabled,\n",
              "  .colab-df-quickchart-complete:disabled:hover {\n",
              "    background-color: var(--disabled-bg-color);\n",
              "    fill: var(--disabled-fill-color);\n",
              "    box-shadow: none;\n",
              "  }\n",
              "\n",
              "  .colab-df-spinner {\n",
              "    border: 2px solid var(--fill-color);\n",
              "    border-color: transparent;\n",
              "    border-bottom-color: var(--fill-color);\n",
              "    animation:\n",
              "      spin 1s steps(1) infinite;\n",
              "  }\n",
              "\n",
              "  @keyframes spin {\n",
              "    0% {\n",
              "      border-color: transparent;\n",
              "      border-bottom-color: var(--fill-color);\n",
              "      border-left-color: var(--fill-color);\n",
              "    }\n",
              "    20% {\n",
              "      border-color: transparent;\n",
              "      border-left-color: var(--fill-color);\n",
              "      border-top-color: var(--fill-color);\n",
              "    }\n",
              "    30% {\n",
              "      border-color: transparent;\n",
              "      border-left-color: var(--fill-color);\n",
              "      border-top-color: var(--fill-color);\n",
              "      border-right-color: var(--fill-color);\n",
              "    }\n",
              "    40% {\n",
              "      border-color: transparent;\n",
              "      border-right-color: var(--fill-color);\n",
              "      border-top-color: var(--fill-color);\n",
              "    }\n",
              "    60% {\n",
              "      border-color: transparent;\n",
              "      border-right-color: var(--fill-color);\n",
              "    }\n",
              "    80% {\n",
              "      border-color: transparent;\n",
              "      border-right-color: var(--fill-color);\n",
              "      border-bottom-color: var(--fill-color);\n",
              "    }\n",
              "    90% {\n",
              "      border-color: transparent;\n",
              "      border-bottom-color: var(--fill-color);\n",
              "    }\n",
              "  }\n",
              "</style>\n",
              "\n",
              "  <script>\n",
              "    async function quickchart(key) {\n",
              "      const quickchartButtonEl =\n",
              "        document.querySelector('#' + key + ' button');\n",
              "      quickchartButtonEl.disabled = true;  // To prevent multiple clicks.\n",
              "      quickchartButtonEl.classList.add('colab-df-spinner');\n",
              "      try {\n",
              "        const charts = await google.colab.kernel.invokeFunction(\n",
              "            'suggestCharts', [key], {});\n",
              "      } catch (error) {\n",
              "        console.error('Error during call to suggestCharts:', error);\n",
              "      }\n",
              "      quickchartButtonEl.classList.remove('colab-df-spinner');\n",
              "      quickchartButtonEl.classList.add('colab-df-quickchart-complete');\n",
              "    }\n",
              "    (() => {\n",
              "      let quickchartButtonEl =\n",
              "        document.querySelector('#df-68eb024b-d39d-4b7a-bc03-54ec44f52be4 button');\n",
              "      quickchartButtonEl.style.display =\n",
              "        google.colab.kernel.accessAllowed ? 'block' : 'none';\n",
              "    })();\n",
              "  </script>\n",
              "</div>\n",
              "\n",
              "    </div>\n",
              "  </div>\n"
            ],
            "application/vnd.google.colaboratory.intrinsic+json": {
              "type": "dataframe",
              "variable_name": "df",
              "summary": "{\n  \"name\": \"df\",\n  \"rows\": 4596,\n  \"fields\": [\n    {\n      \"column\": \"job_title\",\n      \"properties\": {\n        \"dtype\": \"category\",\n        \"num_unique_values\": 1767,\n        \"samples\": [\n          \"Documentation Executive\",\n          \"Financial Sales Executive\",\n          \"Subject Matter Expert - Chemical Engineering\"\n        ],\n        \"semantic_type\": \"\",\n        \"description\": \"\"\n      }\n    },\n    {\n      \"column\": \"company_name\",\n      \"properties\": {\n        \"dtype\": \"string\",\n        \"num_unique_values\": 2876,\n        \"samples\": [\n          \"Market Xcel Data Matrix Private Limited\",\n          \"Kaarquest Manpower Enrichment\",\n          \"Choko La\"\n        ],\n        \"semantic_type\": \"\",\n        \"description\": \"\"\n      }\n    },\n    {\n      \"column\": \"location\",\n      \"properties\": {\n        \"dtype\": \"category\",\n        \"num_unique_values\": 583,\n        \"samples\": [\n          \"Anantapur, Guntur, Kadapa, Kurnool, Madanapalle, Rajamahendravaram, Tenali, Vizianagaram, Proddatur, Nellore, Vijayawada, Ongole, Vishakhapatnam, Nandyala, Srikakulam\",\n          \"Nagaon, Goalpara, Sivasagar, Tezpur, Silchar, North Lakhimpur, Kokrajhar, Sonitpur, Diphu, Tinsukia, Haflong, Chapar, Dibrugarh, Guwahati, Karimganj\",\n          \"Secunderabad, Chennai, Delhi, Kolkata, Kurnool, Bangalore, Hyderabad, Vijayawada, Odisha, Keralapuram, Assam\"\n        ],\n        \"semantic_type\": \"\",\n        \"description\": \"\"\n      }\n    },\n    {\n      \"column\": \"start_date\",\n      \"properties\": {\n        \"dtype\": \"category\",\n        \"num_unique_values\": 1,\n        \"samples\": [\n          \"Starts\\u00a0Immediately\"\n        ],\n        \"semantic_type\": \"\",\n        \"description\": \"\"\n      }\n    },\n    {\n      \"column\": \"ctc\",\n      \"properties\": {\n        \"dtype\": \"category\",\n        \"num_unique_values\": 487,\n        \"samples\": [\n          \"\\u20b9 4,50,000 - 8,50,000\"\n        ],\n        \"semantic_type\": \"\",\n        \"description\": \"\"\n      }\n    },\n    {\n      \"column\": \"experience\",\n      \"properties\": {\n        \"dtype\": \"category\",\n        \"num_unique_values\": 28,\n        \"samples\": [\n          \"2-4 years\"\n        ],\n        \"semantic_type\": \"\",\n        \"description\": \"\"\n      }\n    },\n    {\n      \"column\": \"posted\",\n      \"properties\": {\n        \"dtype\": \"category\",\n        \"num_unique_values\": 26,\n        \"samples\": [\n          \"6 days ago\"\n        ],\n        \"semantic_type\": \"\",\n        \"description\": \"\"\n      }\n    }\n  ]\n}"
            }
          },
          "metadata": {},
          "execution_count": 412
        }
      ],
      "source": [
        "import pandas as pd\n",
        "import numpy as np\n",
        "\n",
        "#pengolahan data\n",
        "from sklearn.preprocessing import LabelEncoder\n",
        "from sklearn.model_selection import train_test_split\n",
        "\n",
        "#modeling\n",
        "import tensorflow as tf\n",
        "from tensorflow import keras\n",
        "from tensorflow.keras.models import Sequential\n",
        "from tensorflow.keras.layers import Dense\n",
        "from tensorflow.keras.callbacks import EarlyStopping\n",
        "\n",
        "df=pd.read_csv('/content/job.csv')\n",
        "df.head()"
      ]
    },
    {
      "cell_type": "code",
      "source": [
        "df.info()"
      ],
      "metadata": {
        "colab": {
          "base_uri": "https://localhost:8080/"
        },
        "id": "EnTbK1iABgGu",
        "outputId": "964eb24a-34a6-4bb1-edd6-ff37ba0b1d14"
      },
      "execution_count": 413,
      "outputs": [
        {
          "output_type": "stream",
          "name": "stdout",
          "text": [
            "<class 'pandas.core.frame.DataFrame'>\n",
            "RangeIndex: 4596 entries, 0 to 4595\n",
            "Data columns (total 7 columns):\n",
            " #   Column        Non-Null Count  Dtype \n",
            "---  ------        --------------  ----- \n",
            " 0   job_title     4596 non-null   object\n",
            " 1   company_name  4596 non-null   object\n",
            " 2   location      4596 non-null   object\n",
            " 3   start_date    4596 non-null   object\n",
            " 4   ctc           4596 non-null   object\n",
            " 5   experience    4596 non-null   object\n",
            " 6   posted        4596 non-null   object\n",
            "dtypes: object(7)\n",
            "memory usage: 251.5+ KB\n"
          ]
        }
      ]
    },
    {
      "cell_type": "markdown",
      "source": [
        "#Preprocessing\n",
        "Tahapan preprocesing ini memuat tentang pengendalian nilai null, pengendalian nilai duplicate, melakukan normalisasi data juga encodeding.\n"
      ],
      "metadata": {
        "id": "gyEGWdiHiDVI"
      }
    },
    {
      "cell_type": "markdown",
      "source": [
        "handling missing value"
      ],
      "metadata": {
        "id": "GBtd3cJMii5T"
      }
    },
    {
      "cell_type": "code",
      "source": [
        "df.isnull().sum()"
      ],
      "metadata": {
        "colab": {
          "base_uri": "https://localhost:8080/",
          "height": 303
        },
        "id": "JrPMhFqCBloQ",
        "outputId": "2b67e939-45d7-48cb-ca79-63abd8610d68"
      },
      "execution_count": 414,
      "outputs": [
        {
          "output_type": "execute_result",
          "data": {
            "text/plain": [
              "job_title       0\n",
              "company_name    0\n",
              "location        0\n",
              "start_date      0\n",
              "ctc             0\n",
              "experience      0\n",
              "posted          0\n",
              "dtype: int64"
            ],
            "text/html": [
              "<div>\n",
              "<style scoped>\n",
              "    .dataframe tbody tr th:only-of-type {\n",
              "        vertical-align: middle;\n",
              "    }\n",
              "\n",
              "    .dataframe tbody tr th {\n",
              "        vertical-align: top;\n",
              "    }\n",
              "\n",
              "    .dataframe thead th {\n",
              "        text-align: right;\n",
              "    }\n",
              "</style>\n",
              "<table border=\"1\" class=\"dataframe\">\n",
              "  <thead>\n",
              "    <tr style=\"text-align: right;\">\n",
              "      <th></th>\n",
              "      <th>0</th>\n",
              "    </tr>\n",
              "  </thead>\n",
              "  <tbody>\n",
              "    <tr>\n",
              "      <th>job_title</th>\n",
              "      <td>0</td>\n",
              "    </tr>\n",
              "    <tr>\n",
              "      <th>company_name</th>\n",
              "      <td>0</td>\n",
              "    </tr>\n",
              "    <tr>\n",
              "      <th>location</th>\n",
              "      <td>0</td>\n",
              "    </tr>\n",
              "    <tr>\n",
              "      <th>start_date</th>\n",
              "      <td>0</td>\n",
              "    </tr>\n",
              "    <tr>\n",
              "      <th>ctc</th>\n",
              "      <td>0</td>\n",
              "    </tr>\n",
              "    <tr>\n",
              "      <th>experience</th>\n",
              "      <td>0</td>\n",
              "    </tr>\n",
              "    <tr>\n",
              "      <th>posted</th>\n",
              "      <td>0</td>\n",
              "    </tr>\n",
              "  </tbody>\n",
              "</table>\n",
              "</div><br><label><b>dtype:</b> int64</label>"
            ]
          },
          "metadata": {},
          "execution_count": 414
        }
      ]
    },
    {
      "cell_type": "code",
      "source": [
        "df.dropna(inplace=True)"
      ],
      "metadata": {
        "id": "7bSWlhgCBubP"
      },
      "execution_count": 415,
      "outputs": []
    },
    {
      "cell_type": "markdown",
      "source": [
        "handling duplicated value"
      ],
      "metadata": {
        "id": "JqZW3aGGioLM"
      }
    },
    {
      "cell_type": "code",
      "source": [
        "duplicate = df.duplicated().sum()\n",
        "print('Jumlah nilai duplikat pada data: ', duplicate)"
      ],
      "metadata": {
        "colab": {
          "base_uri": "https://localhost:8080/"
        },
        "id": "anPJg5Jf8fxK",
        "outputId": "13172246-650a-49d4-f5f4-0ae159a49829"
      },
      "execution_count": 416,
      "outputs": [
        {
          "output_type": "stream",
          "name": "stdout",
          "text": [
            "Jumlah nilai duplikat pada data:  94\n"
          ]
        }
      ]
    },
    {
      "cell_type": "code",
      "source": [
        "#Menghapus nilai duplikat\n",
        "df.drop_duplicates(inplace=True)\n",
        "\n",
        "# Melihat jumlah duplicate value\n",
        "duplicate = df.duplicated().sum()\n",
        "print('Jumlah nilai duplikat pada data: ', duplicate)"
      ],
      "metadata": {
        "colab": {
          "base_uri": "https://localhost:8080/"
        },
        "id": "dUJkYgJIBQh2",
        "outputId": "253eea0c-7ab3-438b-81e3-bcf7b0afd236"
      },
      "execution_count": 417,
      "outputs": [
        {
          "output_type": "stream",
          "name": "stdout",
          "text": [
            "Jumlah nilai duplikat pada data:  0\n"
          ]
        }
      ]
    },
    {
      "cell_type": "markdown",
      "source": [
        "## Pengolahan feature"
      ],
      "metadata": {
        "id": "tm-f6G4ekPH5"
      }
    },
    {
      "cell_type": "markdown",
      "source": [
        "Melakukan konversi  `Posted` menjadi jumlah hari sejak posting."
      ],
      "metadata": {
        "id": "VblSa9eFkT6f"
      }
    },
    {
      "cell_type": "code",
      "source": [
        "def convert_posted(posted_str):\n",
        "    if 'days' in posted_str:\n",
        "        return int(posted_str.split()[0])\n",
        "    elif 'week' in posted_str:\n",
        "        return int(posted_str.split()[0]) * 7\n",
        "    elif 'month' in posted_str:\n",
        "        return int(posted_str.split()[0]) * 30\n",
        "    else:\n",
        "        return np.nan #Handling format tidak diketahui\n",
        "\n",
        "\n",
        "df['posted_days'] = df['posted'].apply(convert_posted)\n"
      ],
      "metadata": {
        "id": "DyZHx2xNPMpt"
      },
      "execution_count": 418,
      "outputs": []
    },
    {
      "cell_type": "markdown",
      "source": [
        "definisi kolom `ctc` ==> CTC, atau Cost to Company, adalah istilah yang umum digunakan dalam konteks penggajian. Data pada kolom ctc ini berupa object yang ber-rentang, pada tahapan ini kita akan mengambil nilai tengahnya saja."
      ],
      "metadata": {
        "id": "T5_Dk-Cqi-ps"
      }
    },
    {
      "cell_type": "code",
      "source": [
        "# Menggunakan lambda untuk menghitung rata-rata CTC\n",
        "def calculate_avg_ctc(ctc_str):\n",
        "    try:\n",
        "        # Membersihkan string dan memisahkan berdasarkan ' - '\n",
        "        ctc_range = ctc_str.replace('₹', '').replace(',', '').strip().split(' - ')\n",
        "        # Menghitung rata-rata jika ada dua nilai\n",
        "        if len(ctc_range) == 2:\n",
        "            return (int(ctc_range[0]) + int(ctc_range[1])) / 2\n",
        "        # Jika hanya ada satu nilai, gunakan sebagai rata-rata\n",
        "        elif len(ctc_range) == 1:\n",
        "            return int(ctc_range[0])\n",
        "    except ValueError:\n",
        "        return np.NaN  # Kembalikan None jika terjadi kesalahan\n",
        "\n",
        "# Menerapkan fungsi ke kolom ctc\n",
        "df['ctc'] = df['ctc'].apply(calculate_avg_ctc)\n",
        "\n"
      ],
      "metadata": {
        "id": "XxcC8d5UDBzk"
      },
      "execution_count": 419,
      "outputs": []
    },
    {
      "cell_type": "markdown",
      "source": [
        "## Encode"
      ],
      "metadata": {
        "id": "H6a-PY3zj8o0"
      }
    },
    {
      "cell_type": "markdown",
      "source": [
        "Untuk memaksimalkan model maka kolom `experience` diencode tapi sebelumnya kita perlu melakukan pengkategorian kelas nya."
      ],
      "metadata": {
        "id": "Un3uAWDTjgiY"
      }
    },
    {
      "cell_type": "code",
      "source": [
        "df['experience'] = df['experience'].str.strip()  # Menghapus spasi di awal dan akhir\n",
        "print(df['experience'].unique())\n"
      ],
      "metadata": {
        "colab": {
          "base_uri": "https://localhost:8080/"
        },
        "id": "qDWqH5zgHVrn",
        "outputId": "3994e22a-8873-4857-f646-e305e6fcd029"
      },
      "execution_count": 420,
      "outputs": [
        {
          "output_type": "stream",
          "name": "stdout",
          "text": [
            "['0-1 years' '0-2 years' '0-5 years' '0-4 years' '1-3 years' '1-5 years'\n",
            " '1 year' '3-5 years' '1-4 years' '2-4 years' '1-2 years' '0-3 years'\n",
            " '2-5 years' '0 years' '4-5 years' '2 years' '3 years' '2-3 years'\n",
            " '4 years' '3-4 years' '4-6 years' '7-10 years' '10-15 years' '6-10 years'\n",
            " '5-7 years' '2-10 years' '3-6 years' '3-7 years']\n"
          ]
        }
      ]
    },
    {
      "cell_type": "code",
      "source": [
        "# Fungsi untuk menghitung nilai tengah dari rentang tahun\n",
        "def convert_experience(exp_str):\n",
        "    # Menghapus ' years' dari string\n",
        "    exp_str = exp_str.replace(' years', '').replace(' year', '')\n",
        "\n",
        "    if '-' in exp_str:  # Memeriksa jika ada rentang\n",
        "        years = exp_str.split('-')\n",
        "        # Menghitung nilai tengah\n",
        "        return (int(years[0]) + int(years[-1])) / 2\n",
        "    else:  # Jika hanya satu tahun\n",
        "        return int(exp_str)\n",
        "\n",
        "# Mengonversi kolom experience\n",
        "df['experience_encoded'] = df['experience'].apply(convert_experience)"
      ],
      "metadata": {
        "id": "-O58lJs8IoGm"
      },
      "execution_count": 421,
      "outputs": []
    },
    {
      "cell_type": "markdown",
      "source": [
        "Label Encoding untuk kolom kategorikal"
      ],
      "metadata": {
        "id": "_xknJJO8k7J6"
      }
    },
    {
      "cell_type": "code",
      "source": [
        "label_encoders = {}\n",
        "for col in ['job_title', 'company_name', 'location']:\n",
        "    le = LabelEncoder()\n",
        "    df[col] = le.fit_transform(df[col])\n",
        "    label_encoders[col] = le\n"
      ],
      "metadata": {
        "id": "5zlLWhq5OiaA"
      },
      "execution_count": 422,
      "outputs": []
    },
    {
      "cell_type": "markdown",
      "source": [
        "Scaling data numerik"
      ],
      "metadata": {
        "id": "eSJk2SXdk_TF"
      }
    },
    {
      "cell_type": "code",
      "source": [
        "from sklearn.preprocessing import MinMaxScaler\n",
        "\n",
        "# Inisialisasi scaler\n",
        "scaler = MinMaxScaler()\n",
        "\n",
        "# Pilih kolom numerik kecuali 'ctc'\n",
        "numeric_columns = df.select_dtypes(include=['float64', 'int64']).columns\n",
        "\n",
        "# Melakukan scaling pada kolom numerik yang telah dipilih\n",
        "df[numeric_columns] = scaler.fit_transform(df[numeric_columns])\n"
      ],
      "metadata": {
        "id": "TwzzxSgcPUuA"
      },
      "execution_count": 423,
      "outputs": []
    },
    {
      "cell_type": "markdown",
      "source": [
        "Cross cek mising value setelah pengolahan fitur jika terdapat missing value kita dapat handling kembali."
      ],
      "metadata": {
        "id": "WKUaErpElD_Q"
      }
    },
    {
      "cell_type": "code",
      "source": [
        "df.isnull().sum()"
      ],
      "metadata": {
        "colab": {
          "base_uri": "https://localhost:8080/",
          "height": 366
        },
        "id": "m9qTVErPbpqG",
        "outputId": "ed0c5a4a-e4a4-4809-fc3a-bf9c7b22149c"
      },
      "execution_count": 424,
      "outputs": [
        {
          "output_type": "execute_result",
          "data": {
            "text/plain": [
              "job_title               0\n",
              "company_name            0\n",
              "location                0\n",
              "start_date              0\n",
              "ctc                   176\n",
              "experience              0\n",
              "posted                  0\n",
              "posted_days           258\n",
              "experience_encoded      0\n",
              "dtype: int64"
            ],
            "text/html": [
              "<div>\n",
              "<style scoped>\n",
              "    .dataframe tbody tr th:only-of-type {\n",
              "        vertical-align: middle;\n",
              "    }\n",
              "\n",
              "    .dataframe tbody tr th {\n",
              "        vertical-align: top;\n",
              "    }\n",
              "\n",
              "    .dataframe thead th {\n",
              "        text-align: right;\n",
              "    }\n",
              "</style>\n",
              "<table border=\"1\" class=\"dataframe\">\n",
              "  <thead>\n",
              "    <tr style=\"text-align: right;\">\n",
              "      <th></th>\n",
              "      <th>0</th>\n",
              "    </tr>\n",
              "  </thead>\n",
              "  <tbody>\n",
              "    <tr>\n",
              "      <th>job_title</th>\n",
              "      <td>0</td>\n",
              "    </tr>\n",
              "    <tr>\n",
              "      <th>company_name</th>\n",
              "      <td>0</td>\n",
              "    </tr>\n",
              "    <tr>\n",
              "      <th>location</th>\n",
              "      <td>0</td>\n",
              "    </tr>\n",
              "    <tr>\n",
              "      <th>start_date</th>\n",
              "      <td>0</td>\n",
              "    </tr>\n",
              "    <tr>\n",
              "      <th>ctc</th>\n",
              "      <td>176</td>\n",
              "    </tr>\n",
              "    <tr>\n",
              "      <th>experience</th>\n",
              "      <td>0</td>\n",
              "    </tr>\n",
              "    <tr>\n",
              "      <th>posted</th>\n",
              "      <td>0</td>\n",
              "    </tr>\n",
              "    <tr>\n",
              "      <th>posted_days</th>\n",
              "      <td>258</td>\n",
              "    </tr>\n",
              "    <tr>\n",
              "      <th>experience_encoded</th>\n",
              "      <td>0</td>\n",
              "    </tr>\n",
              "  </tbody>\n",
              "</table>\n",
              "</div><br><label><b>dtype:</b> int64</label>"
            ]
          },
          "metadata": {},
          "execution_count": 424
        }
      ]
    },
    {
      "cell_type": "code",
      "source": [
        "df.dropna(inplace=True)"
      ],
      "metadata": {
        "id": "Nnj03x7EbhRk"
      },
      "execution_count": 425,
      "outputs": []
    },
    {
      "cell_type": "markdown",
      "source": [
        "# Model Deep Learning - Sequential"
      ],
      "metadata": {
        "id": "TC45xPNYlRZA"
      }
    },
    {
      "cell_type": "markdown",
      "source": [
        "## Split Dataset\n",
        "\n",
        "Inisialisasi fitur dan label untuk model kemudian melakukan spliting dataset."
      ],
      "metadata": {
        "id": "F6JY3Xk1lWsE"
      }
    },
    {
      "cell_type": "code",
      "source": [
        "X = df[['job_title', 'company_name', 'location', 'experience_encoded', 'posted_days']]\n",
        "y = df['ctc']\n",
        "\n",
        "X_train, X_test, y_train, y_test = train_test_split(X, y, test_size=0.2, random_state=32)\n"
      ],
      "metadata": {
        "id": "PoWOE4ChSBK5"
      },
      "execution_count": 426,
      "outputs": []
    },
    {
      "cell_type": "markdown",
      "source": [
        "## Build Model\n",
        "\n",
        "Model dibangun menggunakan arsitektur Sequential, di mana setiap layer dihubungkan secara berurutan."
      ],
      "metadata": {
        "id": "Zwuxn694luHF"
      }
    },
    {
      "cell_type": "code",
      "source": [
        "model = Sequential([\n",
        "    Dense(64, input_dim=X_train.shape[1], activation='relu'),  # Layer pertama dengan 64 unit\n",
        "    Dense(32, activation='relu'),  # Layer kedua dengan 32 unit\n",
        "    Dense(1, activation='linear') # Output layer untuk regresi (tanpa aktivasi karena regresi)\n",
        "])\n",
        "\n",
        "model.summary()\n"
      ],
      "metadata": {
        "colab": {
          "base_uri": "https://localhost:8080/",
          "height": 291
        },
        "id": "adjnRyt9TeTu",
        "outputId": "41f52d44-5898-4c9e-f8bc-4fbbbe52425d"
      },
      "execution_count": 427,
      "outputs": [
        {
          "output_type": "stream",
          "name": "stderr",
          "text": [
            "/usr/local/lib/python3.10/dist-packages/keras/src/layers/core/dense.py:87: UserWarning: Do not pass an `input_shape`/`input_dim` argument to a layer. When using Sequential models, prefer using an `Input(shape)` object as the first layer in the model instead.\n",
            "  super().__init__(activity_regularizer=activity_regularizer, **kwargs)\n"
          ]
        },
        {
          "output_type": "display_data",
          "data": {
            "text/plain": [
              "\u001b[1mModel: \"sequential_21\"\u001b[0m\n"
            ],
            "text/html": [
              "<pre style=\"white-space:pre;overflow-x:auto;line-height:normal;font-family:Menlo,'DejaVu Sans Mono',consolas,'Courier New',monospace\"><span style=\"font-weight: bold\">Model: \"sequential_21\"</span>\n",
              "</pre>\n"
            ]
          },
          "metadata": {}
        },
        {
          "output_type": "display_data",
          "data": {
            "text/plain": [
              "┏━━━━━━━━━━━━━━━━━━━━━━━━━━━━━━━━━━━━━━┳━━━━━━━━━━━━━━━━━━━━━━━━━━━━━┳━━━━━━━━━━━━━━━━━┓\n",
              "┃\u001b[1m \u001b[0m\u001b[1mLayer (type)                        \u001b[0m\u001b[1m \u001b[0m┃\u001b[1m \u001b[0m\u001b[1mOutput Shape               \u001b[0m\u001b[1m \u001b[0m┃\u001b[1m \u001b[0m\u001b[1m        Param #\u001b[0m\u001b[1m \u001b[0m┃\n",
              "┡━━━━━━━━━━━━━━━━━━━━━━━━━━━━━━━━━━━━━━╇━━━━━━━━━━━━━━━━━━━━━━━━━━━━━╇━━━━━━━━━━━━━━━━━┩\n",
              "│ dense_61 (\u001b[38;5;33mDense\u001b[0m)                     │ (\u001b[38;5;45mNone\u001b[0m, \u001b[38;5;34m64\u001b[0m)                  │             \u001b[38;5;34m384\u001b[0m │\n",
              "├──────────────────────────────────────┼─────────────────────────────┼─────────────────┤\n",
              "│ dense_62 (\u001b[38;5;33mDense\u001b[0m)                     │ (\u001b[38;5;45mNone\u001b[0m, \u001b[38;5;34m32\u001b[0m)                  │           \u001b[38;5;34m2,080\u001b[0m │\n",
              "├──────────────────────────────────────┼─────────────────────────────┼─────────────────┤\n",
              "│ dense_63 (\u001b[38;5;33mDense\u001b[0m)                     │ (\u001b[38;5;45mNone\u001b[0m, \u001b[38;5;34m1\u001b[0m)                   │              \u001b[38;5;34m33\u001b[0m │\n",
              "└──────────────────────────────────────┴─────────────────────────────┴─────────────────┘\n"
            ],
            "text/html": [
              "<pre style=\"white-space:pre;overflow-x:auto;line-height:normal;font-family:Menlo,'DejaVu Sans Mono',consolas,'Courier New',monospace\">┏━━━━━━━━━━━━━━━━━━━━━━━━━━━━━━━━━━━━━━┳━━━━━━━━━━━━━━━━━━━━━━━━━━━━━┳━━━━━━━━━━━━━━━━━┓\n",
              "┃<span style=\"font-weight: bold\"> Layer (type)                         </span>┃<span style=\"font-weight: bold\"> Output Shape                </span>┃<span style=\"font-weight: bold\">         Param # </span>┃\n",
              "┡━━━━━━━━━━━━━━━━━━━━━━━━━━━━━━━━━━━━━━╇━━━━━━━━━━━━━━━━━━━━━━━━━━━━━╇━━━━━━━━━━━━━━━━━┩\n",
              "│ dense_61 (<span style=\"color: #0087ff; text-decoration-color: #0087ff\">Dense</span>)                     │ (<span style=\"color: #00d7ff; text-decoration-color: #00d7ff\">None</span>, <span style=\"color: #00af00; text-decoration-color: #00af00\">64</span>)                  │             <span style=\"color: #00af00; text-decoration-color: #00af00\">384</span> │\n",
              "├──────────────────────────────────────┼─────────────────────────────┼─────────────────┤\n",
              "│ dense_62 (<span style=\"color: #0087ff; text-decoration-color: #0087ff\">Dense</span>)                     │ (<span style=\"color: #00d7ff; text-decoration-color: #00d7ff\">None</span>, <span style=\"color: #00af00; text-decoration-color: #00af00\">32</span>)                  │           <span style=\"color: #00af00; text-decoration-color: #00af00\">2,080</span> │\n",
              "├──────────────────────────────────────┼─────────────────────────────┼─────────────────┤\n",
              "│ dense_63 (<span style=\"color: #0087ff; text-decoration-color: #0087ff\">Dense</span>)                     │ (<span style=\"color: #00d7ff; text-decoration-color: #00d7ff\">None</span>, <span style=\"color: #00af00; text-decoration-color: #00af00\">1</span>)                   │              <span style=\"color: #00af00; text-decoration-color: #00af00\">33</span> │\n",
              "└──────────────────────────────────────┴─────────────────────────────┴─────────────────┘\n",
              "</pre>\n"
            ]
          },
          "metadata": {}
        },
        {
          "output_type": "display_data",
          "data": {
            "text/plain": [
              "\u001b[1m Total params: \u001b[0m\u001b[38;5;34m2,497\u001b[0m (9.75 KB)\n"
            ],
            "text/html": [
              "<pre style=\"white-space:pre;overflow-x:auto;line-height:normal;font-family:Menlo,'DejaVu Sans Mono',consolas,'Courier New',monospace\"><span style=\"font-weight: bold\"> Total params: </span><span style=\"color: #00af00; text-decoration-color: #00af00\">2,497</span> (9.75 KB)\n",
              "</pre>\n"
            ]
          },
          "metadata": {}
        },
        {
          "output_type": "display_data",
          "data": {
            "text/plain": [
              "\u001b[1m Trainable params: \u001b[0m\u001b[38;5;34m2,497\u001b[0m (9.75 KB)\n"
            ],
            "text/html": [
              "<pre style=\"white-space:pre;overflow-x:auto;line-height:normal;font-family:Menlo,'DejaVu Sans Mono',consolas,'Courier New',monospace\"><span style=\"font-weight: bold\"> Trainable params: </span><span style=\"color: #00af00; text-decoration-color: #00af00\">2,497</span> (9.75 KB)\n",
              "</pre>\n"
            ]
          },
          "metadata": {}
        },
        {
          "output_type": "display_data",
          "data": {
            "text/plain": [
              "\u001b[1m Non-trainable params: \u001b[0m\u001b[38;5;34m0\u001b[0m (0.00 B)\n"
            ],
            "text/html": [
              "<pre style=\"white-space:pre;overflow-x:auto;line-height:normal;font-family:Menlo,'DejaVu Sans Mono',consolas,'Courier New',monospace\"><span style=\"font-weight: bold\"> Non-trainable params: </span><span style=\"color: #00af00; text-decoration-color: #00af00\">0</span> (0.00 B)\n",
              "</pre>\n"
            ]
          },
          "metadata": {}
        }
      ]
    },
    {
      "cell_type": "markdown",
      "source": [
        "## Train Model"
      ],
      "metadata": {
        "id": "6DdnpIeam_we"
      }
    },
    {
      "cell_type": "markdown",
      "source": [
        "Tahapan training dimulai dari mengcompile model yang telah diibuat dengan mengatur optimez yang akan digunakan dalam kasus ini  kita menggunkan sgd dn menilai loss nya menggunakan mse"
      ],
      "metadata": {
        "id": "sxbYjXd0newF"
      }
    },
    {
      "cell_type": "code",
      "source": [
        "model.compile(optimizer='sgd',\n",
        "              loss='mean_squared_error',\n",
        "              metrics=['mse'])"
      ],
      "metadata": {
        "id": "r36b2oqSoWNq"
      },
      "execution_count": 428,
      "outputs": []
    },
    {
      "cell_type": "markdown",
      "source": [
        "menggunkan Callback: EarlyStopping dari library tensorflow untuk menghentikan pelatihan jika loss tidak membaik setelah 5 epoch juga mempertimbangkan nilai loss nya.\n"
      ],
      "metadata": {
        "id": "c8i4Bx4lrYIu"
      }
    },
    {
      "cell_type": "code",
      "source": [
        "early_stop = EarlyStopping(monitor='loss',\n",
        "                           patience=5,\n",
        "                           min_delta=0.001,\n",
        "                           restore_best_weights=True)"
      ],
      "metadata": {
        "id": "WLSA5Miyeoyw"
      },
      "execution_count": 429,
      "outputs": []
    },
    {
      "cell_type": "markdown",
      "source": [
        "Menggunakan data pelatihan dengan 100 epoch dan batch size 8, serta memantau performanya menggunakan data validasi. Callback early stopping digunakan untuk menghentikan pelatihan lebih awal jika tidak ada peningkatan pada loss, guna mencegah overfitting."
      ],
      "metadata": {
        "id": "uS6C_QN4rwrK"
      }
    },
    {
      "cell_type": "code",
      "source": [
        "history = model.fit(\n",
        "    X_train, y_train,\n",
        "    epochs=100,  # Jumlah epoch, yaitu berapa kali model akan memproses seluruh data pelatihan\n",
        "    batch_size=8,  # Jumlah sampel yang diproses sebelum model diperbarui\n",
        "    validation_data=(X_test, y_test),  # mengevaluasi model selama pelatihan\n",
        "    callbacks=[early_stop]  # menghentikan pelatihan jika tidak ada peningkatan performa\n",
        ")"
      ],
      "metadata": {
        "id": "9YSw8ET5m59j",
        "outputId": "54d8273f-728a-4172-89e5-8bfa28b4c09e",
        "colab": {
          "base_uri": "https://localhost:8080/"
        }
      },
      "execution_count": 430,
      "outputs": [
        {
          "output_type": "stream",
          "name": "stdout",
          "text": [
            "Epoch 1/100\n",
            "\u001b[1m408/408\u001b[0m \u001b[32m━━━━━━━━━━━━━━━━━━━━\u001b[0m\u001b[37m\u001b[0m \u001b[1m3s\u001b[0m 4ms/step - loss: 0.0174 - mse: 0.0174 - val_loss: 0.0053 - val_mse: 0.0053\n",
            "Epoch 2/100\n",
            "\u001b[1m408/408\u001b[0m \u001b[32m━━━━━━━━━━━━━━━━━━━━\u001b[0m\u001b[37m\u001b[0m \u001b[1m1s\u001b[0m 2ms/step - loss: 0.0036 - mse: 0.0036 - val_loss: 0.0042 - val_mse: 0.0042\n",
            "Epoch 3/100\n",
            "\u001b[1m408/408\u001b[0m \u001b[32m━━━━━━━━━━━━━━━━━━━━\u001b[0m\u001b[37m\u001b[0m \u001b[1m1s\u001b[0m 2ms/step - loss: 0.0039 - mse: 0.0039 - val_loss: 0.0039 - val_mse: 0.0039\n",
            "Epoch 4/100\n",
            "\u001b[1m408/408\u001b[0m \u001b[32m━━━━━━━━━━━━━━━━━━━━\u001b[0m\u001b[37m\u001b[0m \u001b[1m1s\u001b[0m 2ms/step - loss: 0.0020 - mse: 0.0020 - val_loss: 0.0037 - val_mse: 0.0037\n",
            "Epoch 5/100\n",
            "\u001b[1m408/408\u001b[0m \u001b[32m━━━━━━━━━━━━━━━━━━━━\u001b[0m\u001b[37m\u001b[0m \u001b[1m1s\u001b[0m 2ms/step - loss: 0.0025 - mse: 0.0025 - val_loss: 0.0036 - val_mse: 0.0036\n",
            "Epoch 6/100\n",
            "\u001b[1m408/408\u001b[0m \u001b[32m━━━━━━━━━━━━━━━━━━━━\u001b[0m\u001b[37m\u001b[0m \u001b[1m1s\u001b[0m 2ms/step - loss: 0.0018 - mse: 0.0018 - val_loss: 0.0035 - val_mse: 0.0035\n",
            "Epoch 7/100\n",
            "\u001b[1m408/408\u001b[0m \u001b[32m━━━━━━━━━━━━━━━━━━━━\u001b[0m\u001b[37m\u001b[0m \u001b[1m1s\u001b[0m 2ms/step - loss: 0.0028 - mse: 0.0028 - val_loss: 0.0034 - val_mse: 0.0034\n",
            "Epoch 8/100\n",
            "\u001b[1m408/408\u001b[0m \u001b[32m━━━━━━━━━━━━━━━━━━━━\u001b[0m\u001b[37m\u001b[0m \u001b[1m1s\u001b[0m 2ms/step - loss: 0.0017 - mse: 0.0017 - val_loss: 0.0034 - val_mse: 0.0034\n",
            "Epoch 9/100\n",
            "\u001b[1m408/408\u001b[0m \u001b[32m━━━━━━━━━━━━━━━━━━━━\u001b[0m\u001b[37m\u001b[0m \u001b[1m1s\u001b[0m 2ms/step - loss: 0.0017 - mse: 0.0017 - val_loss: 0.0033 - val_mse: 0.0033\n",
            "Epoch 10/100\n",
            "\u001b[1m408/408\u001b[0m \u001b[32m━━━━━━━━━━━━━━━━━━━━\u001b[0m\u001b[37m\u001b[0m \u001b[1m1s\u001b[0m 2ms/step - loss: 0.0023 - mse: 0.0023 - val_loss: 0.0033 - val_mse: 0.0033\n"
          ]
        }
      ]
    },
    {
      "cell_type": "markdown",
      "source": [
        "## Evaluate Model"
      ],
      "metadata": {
        "id": "M8MKzqmsnDF-"
      }
    },
    {
      "cell_type": "code",
      "source": [
        "model.evaluate(X_test, y_test)"
      ],
      "metadata": {
        "id": "UMM-cq5Ve6E_",
        "outputId": "a78b57ff-bf32-4d96-e656-de0b574c0cc6",
        "colab": {
          "base_uri": "https://localhost:8080/"
        }
      },
      "execution_count": 431,
      "outputs": [
        {
          "output_type": "stream",
          "name": "stdout",
          "text": [
            "\u001b[1m26/26\u001b[0m \u001b[32m━━━━━━━━━━━━━━━━━━━━\u001b[0m\u001b[37m\u001b[0m \u001b[1m0s\u001b[0m 6ms/step - loss: 0.0036 - mse: 0.0036\n"
          ]
        },
        {
          "output_type": "execute_result",
          "data": {
            "text/plain": [
              "[0.003606781829148531, 0.003606781829148531]"
            ]
          },
          "metadata": {},
          "execution_count": 431
        }
      ]
    },
    {
      "cell_type": "markdown",
      "source": [
        "Hasil evaluasi menunjukkan performa model pada data uji sebagai berikut:\n",
        "\n",
        "Loss (MSE - Mean Squared Error): 0.0037. Ini berarti bahwa rata-rata kuadrat kesalahan antara prediksi model dan nilai sebenarnya adalah 0.0037.\n",
        "\n",
        "Mean Squared Error (MSE): 0.0037. Metrik ini identik dengan loss dalam kasus ini, karena model diregresikan menggunakan MSE.\n",
        "\n",
        "Secara umum, semakin kecil nilai MSE, semakin baik model dalam memprediksi nilai target yang mendekati nilai sebenarnya. Nilai 0.0037 menunjukkan bahwa model cukup akurat"
      ],
      "metadata": {
        "id": "_D3cJZWoq2FR"
      }
    },
    {
      "cell_type": "markdown",
      "source": [
        "**Test prediksi 10 data**"
      ],
      "metadata": {
        "id": "OpycMk4eqT3o"
      }
    },
    {
      "cell_type": "code",
      "source": [
        "# Ambil prediksi dan nilai sebenarnya\n",
        "prediksi_flat = prediksi.flatten()\n",
        "nilai_sebenarnya = y_test[:10].values\n",
        "\n",
        "# Buat DataFrame\n",
        "df_hasil = pd.DataFrame({\n",
        "    'Prediksi': prediksi_flat,\n",
        "    'Nilai Sebenarnya': nilai_sebenarnya\n",
        "})\n",
        "\n",
        "# Tampilkan tabel\n",
        "print(df_hasil)\n"
      ],
      "metadata": {
        "id": "7tgRG0QbpQK5",
        "outputId": "87284445-8345-45d9-d9cb-960d07cdb526",
        "colab": {
          "base_uri": "https://localhost:8080/"
        }
      },
      "execution_count": 432,
      "outputs": [
        {
          "output_type": "stream",
          "name": "stdout",
          "text": [
            "   Prediksi  Nilai Sebenarnya\n",
            "0  0.017774          0.015924\n",
            "1  0.023475          0.007962\n",
            "2  0.055643          0.027866\n",
            "3  0.018149          0.009554\n",
            "4  0.016431          0.031847\n",
            "5  0.015438          0.001592\n",
            "6  0.042435          0.031847\n",
            "7  0.038942          0.015924\n",
            "8  0.018742          0.063694\n",
            "9  0.039064          0.071656\n"
          ]
        }
      ]
    }
  ]
}